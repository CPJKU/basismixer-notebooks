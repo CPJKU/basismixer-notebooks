{
 "cells": [
  {
   "cell_type": "markdown",
   "metadata": {},
   "source": [
    "# The Basis Mixer!\n",
    "\n",
    "The previous notebooks explored the individual components of the Basis Function Models. In this notebook we will put everything together to render an expressive performance of a piece given its score."
   ]
  },
  {
   "cell_type": "code",
   "execution_count": 11,
   "metadata": {},
   "outputs": [],
   "source": [
    "import numpy as np\n",
    "from partitura import save_performance_midi, load_musicxml\n",
    "from partitura.score import expand_grace_notes\n",
    "\n",
    "from basismixer.performance_codec import get_performance_codec\n",
    "from basismixer.basisfunctions import make_basis\n",
    "\n",
    "from helper import load_model"
   ]
  },
  {
   "cell_type": "markdown",
   "metadata": {},
   "source": [
    "## 0. Select a piece and trained models\n",
    "We start by defining the piece we want to render (here is an example MusicXML file, but you can set your own!)"
   ]
  },
  {
   "cell_type": "code",
   "execution_count": 2,
   "metadata": {},
   "outputs": [],
   "source": [
    "xml_fn = './data_examples/Chopin_op10_no3.musicxml'"
   ]
  },
  {
   "cell_type": "markdown",
   "metadata": {},
   "source": [
    "Now we set the path to the directory of the trained models from our previous notebook (or any other trained models). Following the directory structure from the previous notebook, each"
   ]
  },
  {
   "cell_type": "code",
   "execution_count": 3,
   "metadata": {},
   "outputs": [],
   "source": [
    "models_dir = './vienna4x22_models/'"
   ]
  },
  {
   "cell_type": "markdown",
   "metadata": {},
   "source": [
    "## 1. Load the Predictive Model\n",
    "\n",
    "The function `load_model` looks for the configuration files and the saved model parameters in `models_dir`. This function will return an instance of `FullPredictiveModel`, which is a conveniece *meta-model* which contains a list of the individual models (in `model.models`)."
   ]
  },
  {
   "cell_type": "code",
   "execution_count": 4,
   "metadata": {},
   "outputs": [
    {
     "name": "stdout",
     "output_type": "stream",
     "text": [
      "FullPredictiveModel(\n",
      "  (models): ModuleList(\n",
      "    (0): RecurrentModel(\n",
      "      (rnn): GRU(35, 128, batch_first=True, bidirectional=True)\n",
      "      (dense): Linear(in_features=256, out_features=64, bias=True)\n",
      "      (output): Linear(in_features=64, out_features=4, bias=True)\n",
      "    )\n",
      "    (1): FeedForwardModel(\n",
      "      (hidden_layers): Sequential(\n",
      "        (0): Linear(in_features=35, out_features=128, bias=True)\n",
      "        (1): ReLU()\n",
      "      )\n",
      "      (output): Linear(in_features=128, out_features=3, bias=True)\n",
      "    )\n",
      "  )\n",
      ")\n"
     ]
    }
   ],
   "source": [
    "model = load_model(models_dir)\n",
    "print(model)"
   ]
  },
  {
   "cell_type": "markdown",
   "metadata": {},
   "source": [
    "## 2. Computing the Score Representation.\n",
    "\n",
    "We load the input MusicXML file specified above and compute the input score representation using the Basis Functions specified by the model (in `model.input_names`)."
   ]
  },
  {
   "cell_type": "code",
   "execution_count": 5,
   "metadata": {},
   "outputs": [],
   "source": [
    "# Load MusicXML file\n",
    "part = load_musicxml(xml_fn, force_note_ids=True)\n",
    "onsets = part.note_array['onset']\n",
    "expand_grace_notes(part)\n",
    "\n",
    "# Compute basis functions\n",
    "_basis, bf_names = make_basis(part, list(set([bf.split('.')[0] for bf in model.input_names])))\n",
    "basis_idx = np.array([int(np.where(model.input_names == bf)[0]) for bf in bf_names])\n",
    "basis = np.zeros((len(_basis), len(model.input_names)))\n",
    "basis[:, basis_idx] = _basis"
   ]
  },
  {
   "cell_type": "markdown",
   "metadata": {},
   "source": [
    "## 3. Make Predict Performance\n",
    "\n",
    "We make predictions of the performance using the models. , The `predict` method of `FullPredictiveModel` combines the predictions of the individual predictive models into a single output structured array, where the field names are the output parameters (specified in `model.output_names`)."
   ]
  },
  {
   "cell_type": "code",
   "execution_count": 6,
   "metadata": {},
   "outputs": [
    {
     "name": "stdout",
     "output_type": "stream",
     "text": [
      "Field names: ('articulation_log', 'beat_period_mean', 'beat_period_standardized', 'beat_period_std', 'timing', 'velocity_dev', 'velocity_trend')\n"
     ]
    }
   ],
   "source": [
    "preds = model.predict(basis, onsets)\n",
    "\n",
    "print('Field names:', preds.dtype.names)\n"
   ]
  },
  {
   "cell_type": "markdown",
   "metadata": {},
   "source": [
    "We can post-process the model predictions"
   ]
  },
  {
   "cell_type": "code",
   "execution_count": 7,
   "metadata": {},
   "outputs": [],
   "source": [
    "# Post-processing\n",
    "if 'beat_period_mean' in preds.dtype.names:\n",
    "    preds['beat_period_mean'] = np.ones(len(preds)) * preds['beat_period_mean'].mean()\n",
    "if 'beat_period_std' in preds.dtype.names:\n",
    "    preds['beat_period_std'] = np.ones(len(preds)) * preds['beat_period_std'].mean()"
   ]
  },
  {
   "cell_type": "markdown",
   "metadata": {},
   "source": [
    "## 4. Decode predictions\n",
    "\n",
    "Finally, we decode the predictions using a `PerformanceCodec` and export the performance as a MIDI file. The output of the `decode` method is an instance of `partitura.performance.PerformedPart`."
   ]
  },
  {
   "cell_type": "code",
   "execution_count": 8,
   "metadata": {},
   "outputs": [],
   "source": [
    "perf_codec = get_performance_codec(model.output_names)\n",
    "predicted_ppart = perf_codec.decode(part, preds)"
   ]
  },
  {
   "cell_type": "markdown",
   "metadata": {},
   "source": [
    "Finally, we can export the predictions of the model as a MIDI file!"
   ]
  },
  {
   "cell_type": "code",
   "execution_count": 9,
   "metadata": {},
   "outputs": [],
   "source": [
    "# export midi\n",
    "midi_fn = 'my_midi_output.mid'\n",
    "save_performance_midi(predicted_ppart, midi_fn)"
   ]
  }
 ],
 "metadata": {
  "kernelspec": {
   "display_name": "Python 3",
   "language": "python",
   "name": "python3"
  },
  "language_info": {
   "codemirror_mode": {
    "name": "ipython",
    "version": 3
   },
   "file_extension": ".py",
   "mimetype": "text/x-python",
   "name": "python",
   "nbconvert_exporter": "python",
   "pygments_lexer": "ipython3",
   "version": "3.7.4"
  }
 },
 "nbformat": 4,
 "nbformat_minor": 2
}

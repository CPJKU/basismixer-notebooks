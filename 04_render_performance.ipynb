{
 "cells": [
  {
   "cell_type": "markdown",
   "metadata": {},
   "source": [
    "# The Basis Mixer!\n",
    "\n",
    "The previous notebooks explored the individual components of the Basis Function Models. In this notebook we will put everything together to render an expressive performance of a piece given its score.\n",
    "\n",
    "We start by "
   ]
  },
  {
   "cell_type": "code",
   "execution_count": null,
   "metadata": {},
   "outputs": [],
   "source": [
    "from partitura import save_performance_midi\n",
    "from basismixer.predictive_models import FullPredictiveModeldictiveModel"
   ]
  },
  {
   "cell_type": "code",
   "execution_count": null,
   "metadata": {},
   "outputs": [],
   "source": [
    "# Load model\n",
    "model = FullPredictiveModel(model_config)\n",
    "\n",
    "# make basis functions\n",
    "part = load_musicxml(musicxml_fn, force_note_ids=True)\n",
    "onsets = part.note_array['onset']\n",
    "basis_functions = make_basis_functions(input_musicxml)\n",
    "# Predict performance\n",
    "predicted_ppart = model.predict(part, onsets)\n",
    "\n",
    "\n",
    "\n"
   ]
  },
  {
   "cell_type": "markdown",
   "metadata": {},
   "source": [
    "Finally, we can export the predictions of the model as a MIDI file!"
   ]
  },
  {
   "cell_type": "code",
   "execution_count": null,
   "metadata": {},
   "outputs": [],
   "source": [
    "# export midi\n",
    "midi_fn = 'my_midi_output.mid'\n",
    "save_performance_midi(predicted_ppart, midi_fn)"
   ]
  }
 ],
 "metadata": {
  "kernelspec": {
   "display_name": "Python 3",
   "language": "python",
   "name": "python3"
  },
  "language_info": {
   "codemirror_mode": {
    "name": "ipython",
    "version": 3
   },
   "file_extension": ".py",
   "mimetype": "text/x-python",
   "name": "python",
   "nbconvert_exporter": "python",
   "pygments_lexer": "ipython3",
   "version": "3.7.2"
  }
 },
 "nbformat": 4,
 "nbformat_minor": 2
}

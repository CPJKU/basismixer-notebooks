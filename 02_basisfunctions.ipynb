{
 "cells": [
  {
   "cell_type": "markdown",
   "metadata": {},
   "source": [
    "# Defining basis functions\n",
    "\n",
    "In this notebook we will define a basis function that we will later use to train a performance model. A basis function takes a score as input, and returns an array where each row corresponds to a note in the score, and each column corresponds to some descriptor defined by the basis function. There may be just a single descriptor per basis function, or several.\n",
    "\n",
    "We will define a very simple basis function that has a single descriptor, namely the MIDI pitch of the notes. \n",
    "\n",
    "To test our basis function we need a score, so let's start by calling `init_dataset()` from the `data` module. This ensures we have a local copy of the vienna4x22 corpus."
   ]
  },
  {
   "cell_type": "code",
   "execution_count": null,
   "metadata": {
    "scrolled": true
   },
   "outputs": [],
   "source": [
    "%matplotlib notebook\n",
    "from helper import init_dataset, data\n",
    "\n",
    "init_dataset() # download the corpus if necessary; set some variables"
   ]
  },
  {
   "cell_type": "markdown",
   "metadata": {},
   "source": [
    "After the data has been downloaded `init()` sets a couple of global variables that make it easier to access the data. For now we want just a  MusicXML file from the corpus so we can define a basis function and test it on the file. `data.SCORE_PERFORMANCE_PAIRS` holds a list of MusicXML/Match filename pairs, so let's grab the first pair:"
   ]
  },
  {
   "cell_type": "code",
   "execution_count": null,
   "metadata": {},
   "outputs": [],
   "source": [
    "xml_fn, match_fn = data.SCORE_PERFORMANCE_PAIRS[0]\n",
    "print(xml_fn)"
   ]
  },
  {
   "cell_type": "markdown",
   "metadata": {},
   "source": [
    "It's Chopin's Etude Opus 10 number 3. We also got a match file for some performance of the piece (stored in `match_fn`) but we don't need it for the basis function.\n",
    "\n",
    "Let's load the score into Python using the [partitura](https://github.com/OFAI/partitura) package:"
   ]
  },
  {
   "cell_type": "code",
   "execution_count": null,
   "metadata": {},
   "outputs": [],
   "source": [
    "import partitura\n",
    "\n",
    "part = partitura.load_musicxml(xml_fn)\n",
    "print(part)"
   ]
  },
  {
   "cell_type": "markdown",
   "metadata": {},
   "source": [
    "The `Part` object contains the musical elements that are defined in the MusicXML file, such as notes, measures, performance directions, and slurs. You can read more in the [online documentation](https://partitura.readthedocs.io/en/latest/index.html). For now let's start with some basics.\n",
    "\n",
    "Through the attribute [notes](https://partitura.readthedocs.io/en/latest/modules/partitura.score.html#partitura.score.Part.notes) you get a list of all the notes in the piece. Let's count the number of notes:"
   ]
  },
  {
   "cell_type": "code",
   "execution_count": null,
   "metadata": {},
   "outputs": [],
   "source": [
    "len(part.notes)"
   ]
  },
  {
   "cell_type": "markdown",
   "metadata": {},
   "source": [
    "There are 498 notes in this part. However, some notes in the score are [tied](https://en.wikipedia.org/wiki/Tie_(music)). That means that they are encoded as separate notes in the score, but they should sound as a single note. In the context of expression modeling, we want to treat tied notes as a single note. The attribute [notes_tied](https://partitura.readthedocs.io/en/latest/modules/partitura.score.html#partitura.score.Part.notes_tied) does just that:"
   ]
  },
  {
   "cell_type": "code",
   "execution_count": null,
   "metadata": {},
   "outputs": [],
   "source": [
    "len(part.notes_tied)"
   ]
  },
  {
   "cell_type": "markdown",
   "metadata": {},
   "source": [
    "Now there are 486 notes, that means that some notes in the score were indeed tied.\n",
    "\n",
    "We are now ready to define our MIDI pitch basis function. All we need to do is to define a function, say `midi_pitch_basis`, that takes the part object, and returns the following: a `N` x 1 numpy array where `N` equals `len(part.notes_tied)`, and column names of the array:"
   ]
  },
  {
   "cell_type": "code",
   "execution_count": null,
   "metadata": {},
   "outputs": [],
   "source": [
    "%%writefile mybasis.py\n",
    "\n",
    "import numpy as np\n",
    "\n",
    "def midi_pitch_basis(part):\n",
    "    # the list of descriptors\n",
    "    names = ['pitch']\n",
    "    # the N midi pitches\n",
    "    basis = np.array([n.midi_pitch for n in part.notes_tied])\n",
    "    # we need an N x 1 array, so we reshape\n",
    "    basis = basis.reshape((-1, 1))\n",
    "    # finally we normalize the so the values are between 0 and 1\n",
    "    basis = basis/127.\n",
    "    return basis, names\n"
   ]
  },
  {
   "cell_type": "markdown",
   "metadata": {},
   "source": [
    "The `%%writefile -a mybasis.py` magic line saves your newly defined function to the file `mybasis.py`. That way you can reuse the basis function in the next notebook where you train a predictive model.\n",
    "\n",
    "To test the function we have to run the contents of `mybasis.py` (executing the last cell only wrote the contents to the file) first, using `%run mybasis.py`:"
   ]
  },
  {
   "cell_type": "code",
   "execution_count": null,
   "metadata": {},
   "outputs": [],
   "source": [
    "%run mybasis.py\n",
    "\n",
    "basis, names = midi_pitch_basis(part)"
   ]
  },
  {
   "cell_type": "markdown",
   "metadata": {},
   "source": [
    "We use the function `plot_basis` for visual inspection of the values of basis function over the course of the piece:"
   ]
  },
  {
   "cell_type": "code",
   "execution_count": null,
   "metadata": {},
   "outputs": [],
   "source": [
    "from helper import plot_basis\n",
    "\n",
    "plot_basis(basis, names)"
   ]
  },
  {
   "cell_type": "markdown",
   "metadata": {},
   "source": [
    "Let's define another basis function that encodes the number of notes starting simultaneously:"
   ]
  },
  {
   "cell_type": "code",
   "execution_count": null,
   "metadata": {},
   "outputs": [],
   "source": [
    "%%writefile -a mybasis.py\n",
    "\n",
    "import numpy as np\n",
    "import partitura\n",
    "\n",
    "def n_sim_notes_basis(part):\n",
    "    # the list of descriptors\n",
    "    names = ['simultaneous_notes']\n",
    "    # notes\n",
    "    notes = part.notes_tied\n",
    "    \n",
    "    basis = np.array([len(n.start.starting_objects[partitura.score.Note])\n",
    "                      for n in part.notes_tied])\n",
    "    # we need an N x 1 array, so we reshape\n",
    "    basis = basis.reshape((-1, 1))\n",
    "\n",
    "    return basis, names\n"
   ]
  },
  {
   "cell_type": "code",
   "execution_count": null,
   "metadata": {},
   "outputs": [],
   "source": [
    "%run mybasis.py\n",
    "\n",
    "basis, names = n_sim_notes_basis(part)\n",
    "\n",
    "plot_basis(basis, names)"
   ]
  },
  {
   "cell_type": "code",
   "execution_count": null,
   "metadata": {},
   "outputs": [],
   "source": []
  }
 ],
 "metadata": {
  "kernelspec": {
   "display_name": "Python 3",
   "language": "python",
   "name": "python3"
  },
  "language_info": {
   "codemirror_mode": {
    "name": "ipython",
    "version": 3
   },
   "file_extension": ".py",
   "mimetype": "text/x-python",
   "name": "python",
   "nbconvert_exporter": "python",
   "pygments_lexer": "ipython3",
   "version": "3.7.3"
  }
 },
 "nbformat": 4,
 "nbformat_minor": 2
}
